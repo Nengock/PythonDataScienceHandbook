{
  "cells": [
    {
      "cell_type": "markdown",
      "metadata": {
        "id": "-ihnv-IwMQ0m"
      },
      "source": [
        "# Data Manipulation with Pandas"
      ]
    },
    {
      "cell_type": "markdown",
      "metadata": {
        "id": "Aqs1wGcyMQ0o"
      },
      "source": [
        "## Installing and Using Pandas\n",
        "\n",
        "Installation of Pandas on your system requires NumPy to be installed, and if you're building the library from source, you will need the appropriate tools to compile the C and Cython sources on which Pandas is built.\n",
        "\n",
        "Once Pandas is installed, you can import it and check the version; here is the version used by this book:"
      ]
    },
    {
      "cell_type": "code",
      "execution_count": 1,
      "metadata": {
        "jupyter": {
          "outputs_hidden": false
        },
        "colab": {
          "base_uri": "https://localhost:8080/",
          "height": 35
        },
        "id": "lUfVBkntMQ0o",
        "outputId": "440288ee-2d6a-4e87-8e4b-20256e228fe3"
      },
      "outputs": [
        {
          "output_type": "execute_result",
          "data": {
            "text/plain": [
              "'1.5.3'"
            ],
            "application/vnd.google.colaboratory.intrinsic+json": {
              "type": "string"
            }
          },
          "metadata": {},
          "execution_count": 1
        }
      ],
      "source": [
        "import pandas\n",
        "pandas.__version__"
      ]
    },
    {
      "cell_type": "markdown",
      "metadata": {
        "id": "qh4NBuyHMQ0p"
      },
      "source": [
        "Just as we generally import NumPy under the alias `np`, we will import Pandas under the alias `pd`:"
      ]
    },
    {
      "cell_type": "code",
      "execution_count": 2,
      "metadata": {
        "tags": [],
        "id": "GRFYXPG7MQ0p"
      },
      "outputs": [],
      "source": [
        "import pandas as pd"
      ]
    },
    {
      "cell_type": "markdown",
      "metadata": {
        "id": "Qlgtsp5WMQ0p"
      },
      "source": [
        "This import convention will be used throughout the remainder of this book."
      ]
    },
    {
      "cell_type": "markdown",
      "metadata": {
        "id": "ymSlzmb7MQ0p"
      },
      "source": [
        "## Reminder About Built-in Documentation\n",
        "\n",
        "Don't forget that IPython gives you the ability to quickly explore the contents of a package (by using the tab completion feature) as well as the documentation of various functions (using the `?` character).\n",
        "\n",
        "For example, to display all the contents of the Pandas namespace, you can type:\n",
        "\n",
        "```ipython\n",
        "In [3]: pd.<TAB>\n",
        "```\n",
        "\n",
        "And to display the built-in Pandas documentation, you can use this:\n",
        "\n",
        "```ipython\n",
        "In [4]: pd?\n",
        "```\n",
        "\n",
        "More detailed documentation, along with tutorials and other resources, can be found at http://pandas.pydata.org/."
      ]
    }
  ],
  "metadata": {
    "anaconda-cloud": {},
    "jupytext": {
      "formats": "ipynb,md"
    },
    "kernelspec": {
      "display_name": "Python 3 (ipykernel)",
      "language": "python",
      "name": "python3"
    },
    "language_info": {
      "codemirror_mode": {
        "name": "ipython",
        "version": 3
      },
      "file_extension": ".py",
      "mimetype": "text/x-python",
      "name": "python",
      "nbconvert_exporter": "python",
      "pygments_lexer": "ipython3",
      "version": "3.9.2"
    },
    "colab": {
      "provenance": []
    }
  },
  "nbformat": 4,
  "nbformat_minor": 0
}